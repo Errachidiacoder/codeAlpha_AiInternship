{
 "cells": [
  {
   "cell_type": "code",
   "execution_count": 2,
   "id": "7033330c-4652-4a71-bcf9-8b49f5beb25f",
   "metadata": {},
   "outputs": [
    {
     "name": "stdout",
     "output_type": "stream",
     "text": [
      "Requirement already satisfied: nltk in c:\\users\\hp\\anaconda3\\lib\\site-packages (3.8.1)\n",
      "Requirement already satisfied: click in c:\\users\\hp\\anaconda3\\lib\\site-packages (from nltk) (8.1.7)\n",
      "Requirement already satisfied: joblib in c:\\users\\hp\\anaconda3\\lib\\site-packages (from nltk) (1.2.0)\n",
      "Requirement already satisfied: regex>=2021.8.3 in c:\\users\\hp\\anaconda3\\lib\\site-packages (from nltk) (2023.10.3)\n",
      "Requirement already satisfied: tqdm in c:\\users\\hp\\anaconda3\\lib\\site-packages (from nltk) (4.65.0)\n",
      "Requirement already satisfied: colorama in c:\\users\\hp\\anaconda3\\lib\\site-packages (from click->nltk) (0.4.6)\n"
     ]
    }
   ],
   "source": [
    "!pip install nltk\n",
    "\n"
   ]
  },
  {
   "cell_type": "code",
   "execution_count": 3,
   "id": "cb2d48b1-c1cf-4e19-84b1-84725ad5a9cf",
   "metadata": {},
   "outputs": [
    {
     "name": "stderr",
     "output_type": "stream",
     "text": [
      "[nltk_data] Downloading package punkt to\n",
      "[nltk_data]     C:\\Users\\hp\\AppData\\Roaming\\nltk_data...\n",
      "[nltk_data]   Unzipping tokenizers\\punkt.zip.\n"
     ]
    },
    {
     "name": "stdout",
     "output_type": "stream",
     "text": [
      "Welcome to CHU Contest FAQ Chatbot!\n",
      "Type 'quit' to exit the conversation.\n"
     ]
    },
    {
     "name": "stdin",
     "output_type": "stream",
     "text": [
      "You:  hello\n"
     ]
    },
    {
     "name": "stdout",
     "output_type": "stream",
     "text": [
      "Bot: Sorry, I don't have information on that.\n"
     ]
    },
    {
     "name": "stdin",
     "output_type": "stream",
     "text": [
      "You:  hello, how can i register?\n"
     ]
    },
    {
     "name": "stdout",
     "output_type": "stream",
     "text": [
      "Bot: You can register for the contest by visiting the registration page and filling out the required details.\n"
     ]
    },
    {
     "name": "stdin",
     "output_type": "stream",
     "text": [
      "You:  what doc are reqired \n"
     ]
    },
    {
     "name": "stdout",
     "output_type": "stream",
     "text": [
      "Bot: Sorry, I don't have information on that.\n"
     ]
    },
    {
     "name": "stdin",
     "output_type": "stream",
     "text": [
      "You:  what documaent are required?\n"
     ]
    },
    {
     "name": "stdout",
     "output_type": "stream",
     "text": [
      "Bot: Sorry, I don't have information on that.\n"
     ]
    },
    {
     "name": "stdin",
     "output_type": "stream",
     "text": [
      "You:  quit\n"
     ]
    },
    {
     "name": "stdout",
     "output_type": "stream",
     "text": [
      "Goodbye!\n"
     ]
    }
   ],
   "source": [
    "import nltk\n",
    "from nltk.tokenize import word_tokenize\n",
    "\n",
    "# Download necessary NLTK data\n",
    "nltk.download('punkt')\n",
    "\n",
    "\n",
    "faq_dict = {\n",
    "    \"register\": \"You can register for the contest by visiting the registration page and filling out the required details.\",\n",
    "    \"documents\": \"You will need a national ID, educational certificates, and passport-sized photo to register.\",\n",
    "    \"results\": \"Results will be displayed on the results page once announced.\",\n",
    "    \"eligibility\": \"To be eligible, you must meet the age, education, and experience requirements.\"\n",
    "}\n",
    "\n",
    "\n",
    "def find_answer(user_input):\n",
    "    tokens = word_tokenize(user_input.lower())  \n",
    "    for word in tokens:                        \n",
    "        if word in faq_dict:                   \n",
    "            return faq_dict[word]               \n",
    "    return \"Sorry, I don't have information on that.\"\n",
    "\n",
    "# Simple function for chatbot interaction\n",
    "def chatbot():\n",
    "    print(\"Welcome to CHU Contest FAQ Chatbot!\")\n",
    "    print(\"Type 'quit' to exit the conversation.\")\n",
    "    \n",
    "    while True:\n",
    "        user_input = input(\"You: \")             \n",
    "        if user_input.lower() == 'quit':        \n",
    "            print(\"Goodbye!\")\n",
    "            break\n",
    "        response = find_answer(user_input)     \n",
    "        print(f\"Bot: {response}\")               \n",
    "\n",
    "quit\n",
    "\n",
    "chatbot()\n"
   ]
  },
  {
   "cell_type": "code",
   "execution_count": null,
   "id": "75a3ea40-4acc-4028-90da-ae28787d9f28",
   "metadata": {},
   "outputs": [],
   "source": []
  }
 ],
 "metadata": {
  "kernelspec": {
   "display_name": "Python 3 (ipykernel)",
   "language": "python",
   "name": "python3"
  },
  "language_info": {
   "codemirror_mode": {
    "name": "ipython",
    "version": 3
   },
   "file_extension": ".py",
   "mimetype": "text/x-python",
   "name": "python",
   "nbconvert_exporter": "python",
   "pygments_lexer": "ipython3",
   "version": "3.11.5"
  }
 },
 "nbformat": 4,
 "nbformat_minor": 5
}
