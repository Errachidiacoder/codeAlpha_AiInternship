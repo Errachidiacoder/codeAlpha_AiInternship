{
 "cells": [
  {
   "cell_type": "code",
   "execution_count": null,
   "id": "c4b8fe29-757a-46a5-a41c-233967aa0a6e",
   "metadata": {},
   "outputs": [],
   "source": [
    "pip install googletrans==4.0.0-rc1\n"
   ]
  },
  {
   "cell_type": "code",
   "execution_count": null,
   "id": "d8dfb022-a9c2-45f6-92a9-307432f2a3b0",
   "metadata": {},
   "outputs": [],
   "source": [
    "from tkinter import *\n",
    "from tkinter import ttk\n",
    "from googletrans import Translator, LANGUAGES"
   ]
  },
  {
   "cell_type": "code",
   "execution_count": null,
   "id": "54f2f6aa-5632-4586-8ca8-b22b35875766",
   "metadata": {},
   "outputs": [],
   "source": [
    "fenetre_principale = Tk()\n",
    "fenetre_principale.geometry('1100x320')\n",
    "fenetre_principale.resizable(0, 0)\n",
    "fenetre_principale['bg'] = 'green'\n",
    "fenetre_principale.title('Traducteur en temps réel')\n",
    "\n",
    "Label(fenetre_principale, text=\"Traducteur de Langues\", font=\"Arial 20 bold\").pack()\n",
    "Label(fenetre_principale, text=\"Entrez le texte\", font='arial 13 bold', bg='white').place(x=165, y=90)\n",
    "\n",
    "champ_texte_entree = Entry(fenetre_principale, width=60)\n",
    "champ_texte_entree.place(x=30, y=130)\n",
    "\n",
    "Label(fenetre_principale, text=\"Traduction\", font='arial 13 bold', bg='white').place(x=780, y=90)\n",
    "\n",
    "zone_texte_sortie = Text(fenetre_principale, font='arial 10', height=5, wrap=WORD, padx=5, pady=5, width=50)\n",
    "zone_texte_sortie.place(x=600, y=130)\n",
    "\n",
    "liste_langues = list(LANGUAGES.values())\n",
    "\n",
    "menu_langue_destination = ttk.Combobox(fenetre_principale, values=liste_langues, width=22)\n",
    "menu_langue_destination.place(x=130, y=180)\n",
    "menu_langue_destination.set('Choisissez une langue')\n",
    "\n",
    "def traduire():\n",
    "    try:\n",
    "        traducteur = Translator()\n",
    "        traduction = traducteur.translate(champ_texte_entree.get(), dest=menu_langue_destination.get())\n",
    "        zone_texte_sortie.delete(1.0, END)\n",
    "        zone_texte_sortie.insert(END, traduction.text)\n",
    "    except Exception as e:\n",
    "        print(f\"Erreur de traduction: {e}\")\n",
    "\n",
    "bouton_traduire = Button(fenetre_principale, text='Traduire', font='arial 12 bold', pady=5, command=traduire, bg='white', activebackground='blue')\n",
    "bouton_traduire.place(x=445, y=180)\n",
    "\n",
    "fenetre_principale.mainloop()\n"
   ]
  },
  {
   "cell_type": "code",
   "execution_count": null,
   "id": "48238f43-4f9d-48fc-9aa7-61a13079e21d",
   "metadata": {},
   "outputs": [],
   "source": []
  }
 ],
 "metadata": {
  "kernelspec": {
   "display_name": "Python 3 (ipykernel)",
   "language": "python",
   "name": "python3"
  },
  "language_info": {
   "codemirror_mode": {
    "name": "ipython",
    "version": 3
   },
   "file_extension": ".py",
   "mimetype": "text/x-python",
   "name": "python",
   "nbconvert_exporter": "python",
   "pygments_lexer": "ipython3",
   "version": "3.11.5"
  }
 },
 "nbformat": 4,
 "nbformat_minor": 5
}
